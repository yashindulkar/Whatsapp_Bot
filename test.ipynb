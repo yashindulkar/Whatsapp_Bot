{
 "cells": [
  {
   "cell_type": "code",
   "execution_count": 10,
   "metadata": {},
   "outputs": [],
   "source": [
    "\n",
    "from selenium import webdriver\n",
    "from selenium.webdriver.common.keys import Keys\n",
    "import time"
   ]
  },
  {
   "cell_type": "code",
   "execution_count": 11,
   "metadata": {},
   "outputs": [],
   "source": [
    "driver = webdriver.Chrome('./chromedriver')"
   ]
  },
  {
   "cell_type": "code",
   "execution_count": 12,
   "metadata": {},
   "outputs": [],
   "source": [
    "driver.get(\"https://web.whatsapp.com/\")"
   ]
  },
  {
   "cell_type": "code",
   "execution_count": 4,
   "metadata": {},
   "outputs": [
    {
     "name": "stdout",
     "output_type": "stream",
     "text": [
      "Press anything after QR scanj\n"
     ]
    }
   ],
   "source": [
    "input(\"Press anything after QR scan\")\n",
    "time.sleep(5)"
   ]
  },
  {
   "cell_type": "code",
   "execution_count": 13,
   "metadata": {},
   "outputs": [],
   "source": [
    "names = [\"Gawandi\"]"
   ]
  },
  {
   "cell_type": "code",
   "execution_count": 23,
   "metadata": {},
   "outputs": [],
   "source": [
    "for name in names:\n",
    "\n",
    "    person = driver.find_element_by_xpath('//span[@title = \"{}\"]'.format(name))\n",
    "    person.click()\n",
    "\n",
    "    for i in range(1,3):\n",
    "        driver.execute_script(\"window.scrollTo(0, document.body.scrollHeight);\")\n",
    "\n",
    "    msg_got = driver.find_elements_by_css_selector(\"span._1VzZY.selectable-text.invisible-space.copyable-text\")\n",
    "    msg = [message.text for message in msg_got]\n",
    "\n",
    "    if msg[-1] == \"Dayum bish\":\n",
    "        reply = driver.find_element_by_class_name(\"_1awR2.copyable-text.selectable-text\")\n",
    "        reply.send_keys(\"Hello I'm Shadow\")\n",
    "        reply.send_keys(Keys.RETURN)\n",
    "    else :\n",
    "        reply = driver.find_element_by_class_name(\"_1awR2.copyable-text.selectable-text\")\n",
    "        reply.send_keys(\"Bye\")\n",
    "        reply.send_keys(Keys.RETURN)"
   ]
  },
  {
   "cell_type": "code",
   "execution_count": null,
   "metadata": {},
   "outputs": [],
   "source": []
  }
 ],
 "metadata": {
  "kernelspec": {
   "display_name": "Python 3",
   "language": "python",
   "name": "python3"
  },
  "language_info": {
   "codemirror_mode": {
    "name": "ipython",
    "version": 3
   },
   "file_extension": ".py",
   "mimetype": "text/x-python",
   "name": "python",
   "nbconvert_exporter": "python",
   "pygments_lexer": "ipython3",
   "version": "3.7.6"
  }
 },
 "nbformat": 4,
 "nbformat_minor": 4
}
